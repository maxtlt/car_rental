{
 "cells": [
  {
   "cell_type": "markdown",
   "id": "ff98f31e-8391-4a33-bb61-5fb2245810dd",
   "metadata": {},
   "source": [
    "<img src='10215_1.jpg'>"
   ]
  },
  {
   "cell_type": "markdown",
   "id": "a868dbb8-2c7e-4cee-8d0d-59a6ef527a6c",
   "metadata": {},
   "source": [
    "<h1>Формирование датасета дневной загрузки парка</h1>"
   ]
  },
  {
   "cell_type": "code",
   "execution_count": 2,
   "id": "b9bd8f6a-baec-4663-b1ab-6c2b6636ed70",
   "metadata": {},
   "outputs": [],
   "source": [
    "import mysql.connector"
   ]
  },
  {
   "cell_type": "code",
   "execution_count": 3,
   "id": "4a66dc0b-9249-4329-8105-6b035a4d3145",
   "metadata": {},
   "outputs": [],
   "source": [
    "mydb = mysql.connector.connect(\n",
    "    host='localhost',\n",
    "    user='root',\n",
    "    passwd='yk5Qa9Xq1w5tBc9Ye',\n",
    "    database='mega'\n",
    ")"
   ]
  },
  {
   "cell_type": "code",
   "execution_count": 4,
   "id": "bb6d1b08-1a47-4ec0-ba21-bb8fce22e087",
   "metadata": {},
   "outputs": [],
   "source": [
    "import pandas as pd\n",
    "import math\n",
    "%matplotlib inline\n",
    "import matplotlib.pyplot as plt\n",
    "import numpy as np\n",
    "from datetime import datetime, timedelta\n",
    "from plotly.offline import download_plotlyjs, init_notebook_mode, plot, iplot\n",
    "import plotly.graph_objs as go\n",
    "import seaborn as sns"
   ]
  },
  {
   "cell_type": "code",
   "execution_count": 12,
   "id": "4f4158a7-6f63-4e6e-8cc7-d682e853b97b",
   "metadata": {},
   "outputs": [],
   "source": [
    "workload_of_the_park = pd.read_sql('SELECT reg_t_title_ru, use_of_the_mobile_app, COUNT(DISTINCT users_transactions_car_id) \\\n",
    "                                FROM \\\n",
    "                                (SELECT DISTINCT users_transactions.car_id AS users_transactions_car_id, reg_t.title_ru AS reg_t_title_ru, \\\n",
    "                                u_payments.user_id, MIN(FROM_UNIXTIME(u_payments.created_at, \"%Y-%m-%d\")) AS use_of_the_mobile_app \\\n",
    "                                FROM mega.user_payments AS u_payments \\\n",
    "                                INNER JOIN mega.regions AS reg_t ON u_payments.region_id = reg_t.id \\\n",
    "                                INNER JOIN mega.user_operations AS users_transactions ON u_payments.operation_id = users_transactions.id \\\n",
    "                                WHERE u_payments.merchant_type IS NULL AND users_transactions.reference_id IS NOT NULL AND \\\n",
    "                                users_transactions.operation_type IN (\"minutes\", \"hold\", \"after-packet\") \\\n",
    "                                GROUP BY users_transactions.car_id, reg_t.title_ru, u_payments.user_id, u_payments.operation_id, \\\n",
    "                                u_payments.merchant_type) AS customers_use_of_the_mobile_app \\\n",
    "                                GROUP BY reg_t_title_ru, use_of_the_mobile_app',mydb)"
   ]
  },
  {
   "cell_type": "code",
   "execution_count": 14,
   "id": "c637a49a-2103-441e-a9e1-f46f6b0a56a7",
   "metadata": {},
   "outputs": [],
   "source": [
    "workload_of_the_park.to_csv('workload_of_the_park.csv')"
   ]
  },
  {
   "cell_type": "code",
   "execution_count": null,
   "id": "4785af7f-467e-4acf-8781-3f64ce793f7c",
   "metadata": {},
   "outputs": [],
   "source": []
  }
 ],
 "metadata": {
  "kernelspec": {
   "display_name": "Python 3 (ipykernel)",
   "language": "python",
   "name": "python3"
  },
  "language_info": {
   "codemirror_mode": {
    "name": "ipython",
    "version": 3
   },
   "file_extension": ".py",
   "mimetype": "text/x-python",
   "name": "python",
   "nbconvert_exporter": "python",
   "pygments_lexer": "ipython3",
   "version": "3.9.18"
  },
  "widgets": {
   "application/vnd.jupyter.widget-state+json": {
    "state": {},
    "version_major": 2,
    "version_minor": 0
   }
  }
 },
 "nbformat": 4,
 "nbformat_minor": 5
}
