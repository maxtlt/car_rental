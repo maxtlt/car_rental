{
 "cells": [
  {
   "cell_type": "markdown",
   "id": "5952ea17-d660-466b-a7e1-71a4ff0108bb",
   "metadata": {},
   "source": [
    "<img src='10215_1.jpg'>"
   ]
  },
  {
   "cell_type": "markdown",
   "id": "363815a2-12c8-499c-b116-9fa2a88ebc1c",
   "metadata": {},
   "source": [
    "<h1>Формирование датасета с полученной дневной выручкой</h1>"
   ]
  },
  {
   "cell_type": "code",
   "execution_count": 1,
   "id": "09c4f883-8cd9-45dd-81ec-bb3be41c64d8",
   "metadata": {},
   "outputs": [],
   "source": [
    "import mysql.connector"
   ]
  },
  {
   "cell_type": "code",
   "execution_count": 2,
   "id": "822ccb7e-3025-4ac9-b667-491e64af371c",
   "metadata": {},
   "outputs": [],
   "source": [
    "mydb = mysql.connector.connect(\n",
    "    host='localhost',\n",
    "    user='root',\n",
    "    passwd='yk5Qa9Xq1w5tBc9Ye',\n",
    "    database='mega'\n",
    ")"
   ]
  },
  {
   "cell_type": "code",
   "execution_count": 3,
   "id": "40858e9d-aa8c-4d6e-ba1b-b5d7fe023bec",
   "metadata": {},
   "outputs": [],
   "source": [
    "import pandas as pd\n",
    "import math\n",
    "%matplotlib inline\n",
    "import matplotlib.pyplot as plt\n",
    "import numpy as np\n",
    "import datetime\n",
    "from plotly.offline import download_plotlyjs, init_notebook_mode, plot, iplot\n",
    "import plotly.graph_objs as go"
   ]
  },
  {
   "cell_type": "code",
   "execution_count": 9,
   "id": "332f539b-6735-4fe8-8b92-5b18a0d27130",
   "metadata": {},
   "outputs": [],
   "source": [
    "revenue_per_month_and_citys = pd.read_sql('SELECT reg_t.title_ru, FROM_UNIXTIME(u_payments.created_at, \"%Y-%m-%d\") AS t_date, SUM(u_payments.amount) AS sum_amount \\\n",
    "                                        FROM mega.user_payments AS u_payments \\\n",
    "                                        INNER JOIN mega.regions AS reg_t ON u_payments.region_id = reg_t.id \\\n",
    "                                        WHERE status IN (2,5,13) AND uuid is not null AND amount_return is null \\\n",
    "                                        AND (merchant_type IS NULL OR merchant_type <> \"fines\") AND \\\n",
    "                                        (merchant_type IS NULL OR merchant_type <> \"invoices\") \\\n",
    "                                        GROUP BY t_date, reg_t.title_ru',mydb)"
   ]
  },
  {
   "cell_type": "code",
   "execution_count": 10,
   "id": "d97584cf-6630-48af-8beb-1eceab259bde",
   "metadata": {},
   "outputs": [],
   "source": [
    "revenue_per_month_and_citys.to_csv('revenue_by_day.csv')"
   ]
  },
  {
   "cell_type": "code",
   "execution_count": null,
   "id": "352a91b2-2f91-411a-a6de-279a27a5d06d",
   "metadata": {},
   "outputs": [],
   "source": []
  }
 ],
 "metadata": {
  "kernelspec": {
   "display_name": "Python 3 (ipykernel)",
   "language": "python",
   "name": "python3"
  },
  "language_info": {
   "codemirror_mode": {
    "name": "ipython",
    "version": 3
   },
   "file_extension": ".py",
   "mimetype": "text/x-python",
   "name": "python",
   "nbconvert_exporter": "python",
   "pygments_lexer": "ipython3",
   "version": "3.9.18"
  },
  "widgets": {
   "application/vnd.jupyter.widget-state+json": {
    "state": {},
    "version_major": 2,
    "version_minor": 0
   }
  }
 },
 "nbformat": 4,
 "nbformat_minor": 5
}
