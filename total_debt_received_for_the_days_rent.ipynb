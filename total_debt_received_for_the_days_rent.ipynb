{
 "cells": [
  {
   "cell_type": "markdown",
   "id": "a422271b-bd88-441d-943b-4ea24525a876",
   "metadata": {},
   "source": [
    "<img src='10215_1.jpg'>"
   ]
  },
  {
   "cell_type": "markdown",
   "id": "f7771830-6544-4dde-8781-5d681eb84807",
   "metadata": {},
   "source": [
    "<h1>Формирование датасета с появившейся дневной задолженностью за аренды автомобилей</h1>"
   ]
  },
  {
   "cell_type": "code",
   "execution_count": 1,
   "id": "eee7ce09-9e8a-49f1-a4b9-6d4daa912a5f",
   "metadata": {},
   "outputs": [],
   "source": [
    "import mysql.connector"
   ]
  },
  {
   "cell_type": "code",
   "execution_count": 2,
   "id": "56e874d5-f160-4165-8227-36782a7fb309",
   "metadata": {},
   "outputs": [],
   "source": [
    "mydb = mysql.connector.connect(\n",
    "    host='localhost',\n",
    "    user='root',\n",
    "    passwd='yk5Qa9Xq1w5tBc9Ye',\n",
    "    database='mega'\n",
    ")"
   ]
  },
  {
   "cell_type": "code",
   "execution_count": 3,
   "id": "7a5f06a6-87d0-4cf1-90ea-d987f9488539",
   "metadata": {},
   "outputs": [],
   "source": [
    "import pandas as pd\n",
    "import math\n",
    "%matplotlib inline\n",
    "import matplotlib.pyplot as plt\n",
    "import numpy as np\n",
    "import datetime\n",
    "from plotly.offline import download_plotlyjs, init_notebook_mode, plot, iplot\n",
    "import plotly.graph_objs as go"
   ]
  },
  {
   "cell_type": "code",
   "execution_count": 4,
   "id": "246c9ee4-a907-4328-8dfc-bf44a80d6bf1",
   "metadata": {},
   "outputs": [],
   "source": [
    "revenue_per_month_and_citys = pd.read_sql('SELECT city, created_at_format, SUM(total_debt) AS total_debt_total  \\\n",
    "                                        FROM \\\n",
    "                                        (SELECT DISTINCT reg_t.title_ru AS city, u_payments.operation_id, users_transactions.paid_by_bonus, \\\n",
    "                                        MAX(u_payments.amount), MAX(u_payments.amount)-users_transactions.paid_by_bonus AS total_debt, \\\n",
    "                                        MIN(FROM_UNIXTIME(u_payments.created_at, \"%Y-%m-%d\")) AS created_at_format \\\n",
    "                                        FROM mega.user_payments AS u_payments \\\n",
    "                                        INNER JOIN mega.regions AS reg_t ON u_payments.region_id = reg_t.id \\\n",
    "                                        INNER JOIN mega.user_operations AS users_transactions ON u_payments.operation_id = users_transactions.id \\\n",
    "                                        WHERE users_transactions.reference_id IS NOT NULL AND users_transactions.operation_type IN (\"minutes\", \"hold\", \"after-packet\") AND\\\n",
    "                                        u_payments.merchant_type IS NULL \\\n",
    "                                        AND u_payments.status = 1 AND \\\n",
    "                                        u_payments.operation_id NOT IN (SELECT debt_start_date.operation_id \\\n",
    "                                                        FROM \\\n",
    "                                                        (SELECT DISTINCT user_id, operation_id, MAX(FROM_UNIXTIME(created_at, \"%Y-%m-%d\")) \\\n",
    "                                                        AS created_at_format \\\n",
    "                                                        FROM mega.user_payments \\\n",
    "                                                        GROUP BY user_id, operation_id, status, amount_return, merchant_type \\\n",
    "                                                        HAVING (status IN (2,5,13)) AND (amount_return IS NULL) AND (merchant_type IS NULL)) \\\n",
    "                                                        AS debt_final_date \\\n",
    "                                                        INNER JOIN \\\n",
    "                                                        (SELECT DISTINCT user_id, operation_id, MIN(FROM_UNIXTIME(created_at, \"%Y-%m-%d\")) \\\n",
    "                                                        AS created_at_format \\\n",
    "                                                        FROM mega.user_payments \\\n",
    "                                                        GROUP BY user_id, operation_id, status, merchant_type \\\n",
    "                                                        HAVING (status = 1) AND (merchant_type IS NULL)) AS debt_start_date ON \\\n",
    "                                                        debt_final_date.user_id = debt_start_date.user_id AND \\\n",
    "                                                        debt_final_date.operation_id = debt_start_date.operation_id AND \\\n",
    "                                                        debt_final_date.created_at_format = debt_start_date.created_at_format) \\\n",
    "                                        GROUP BY city, u_payments.operation_id) AS total_table \\\n",
    "                                        GROUP BY city, created_at_format \\\n",
    "                                        HAVING SUM(total_debt) > 0 \\\n",
    "                                        ORDER BY created_at_format, city',mydb)"
   ]
  },
  {
   "cell_type": "code",
   "execution_count": 5,
   "id": "b0c07228-7d63-432a-bf72-f34d0e983b3e",
   "metadata": {},
   "outputs": [],
   "source": [
    "revenue_per_month_and_citys.to_csv('total_debt_received_for_the_days_rent.csv')"
   ]
  },
  {
   "cell_type": "code",
   "execution_count": null,
   "id": "61570ce2-0deb-4f35-bb18-5f014930f366",
   "metadata": {},
   "outputs": [],
   "source": []
  }
 ],
 "metadata": {
  "kernelspec": {
   "display_name": "Python 3 (ipykernel)",
   "language": "python",
   "name": "python3"
  },
  "language_info": {
   "codemirror_mode": {
    "name": "ipython",
    "version": 3
   },
   "file_extension": ".py",
   "mimetype": "text/x-python",
   "name": "python",
   "nbconvert_exporter": "python",
   "pygments_lexer": "ipython3",
   "version": "3.9.18"
  },
  "widgets": {
   "application/vnd.jupyter.widget-state+json": {
    "state": {},
    "version_major": 2,
    "version_minor": 0
   }
  }
 },
 "nbformat": 4,
 "nbformat_minor": 5
}
